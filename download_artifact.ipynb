{
 "cells": [
  {
   "cell_type": "code",
   "execution_count": 1,
   "metadata": {},
   "outputs": [
    {
     "name": "stderr",
     "output_type": "stream",
     "text": [
      "\u001b[34m\u001b[1mwandb\u001b[0m: Using wandb-core as the SDK backend. Please refer to https://wandb.me/wandb-core for more information.\n",
      "\u001b[34m\u001b[1mwandb\u001b[0m: Currently logged in as: \u001b[33mkevinboy665\u001b[0m (\u001b[33mdetr_mmlab\u001b[0m). Use \u001b[1m`wandb login --relogin`\u001b[0m to force relogin\n"
     ]
    },
    {
     "data": {
      "text/plain": [
       "True"
      ]
     },
     "execution_count": 1,
     "metadata": {},
     "output_type": "execute_result"
    }
   ],
   "source": [
    "# !pip install wandb\n",
    "import os\n",
    "os.environ['WANDB_API_KEY'] = ''\n",
    "import wandb\n",
    "wandb.login()"
   ]
  },
  {
   "cell_type": "code",
   "execution_count": 4,
   "metadata": {},
   "outputs": [],
   "source": [
    "api = wandb.Api()\n",
    "project='detr_mamba_dspm_noise3'\n",
    "entity='detr_mmlab'\n",
    "# project='detr'\n",
    "# entity='detr_mmlab'"
   ]
  },
  {
   "cell_type": "code",
   "execution_count": 3,
   "metadata": {},
   "outputs": [
    {
     "name": "stderr",
     "output_type": "stream",
     "text": [
      "\u001b[34m\u001b[1mwandb\u001b[0m: Downloading large artifact detr_mamba_dspm_noise2_fold3:v34, 2437.71MB. 1 files... \n",
      "\u001b[34m\u001b[1mwandb\u001b[0m:   1 of 1 files downloaded.  \n",
      "Done. 0:4:24.2\n"
     ]
    },
    {
     "data": {
      "text/plain": [
       "'/media/tkyin/新增磁碟區/DETR/DETR/artifacts/detr_mamba_dspm_noise2_fold3:v34'"
      ]
     },
     "execution_count": 3,
     "metadata": {},
     "output_type": "execute_result"
    }
   ],
   "source": [
    "artifact = \"detr_mamba_dspm_noise2_fold3:v34\"\n",
    "artifact = api.artifact(f\"{entity}/{project}/{artifact}\")\n",
    "artifact.download()"
   ]
  },
  {
   "cell_type": "code",
   "execution_count": 5,
   "metadata": {},
   "outputs": [
    {
     "name": "stderr",
     "output_type": "stream",
     "text": [
      "\u001b[34m\u001b[1mwandb\u001b[0m: Downloading large artifact detr_mamba_dspm_noise3_fold3:v19, 2437.71MB. 1 files... \n",
      "\u001b[34m\u001b[1mwandb\u001b[0m:   1 of 1 files downloaded.  \n",
      "Done. 0:4:18.6\n"
     ]
    },
    {
     "data": {
      "text/plain": [
       "'/media/tkyin/新增磁碟區/DETR/DETR/artifacts/detr_mamba_dspm_noise3_fold3:v19'"
      ]
     },
     "execution_count": 5,
     "metadata": {},
     "output_type": "execute_result"
    }
   ],
   "source": [
    "artifact = \"detr_mamba_dspm_noise3_fold3:v19\"\n",
    "artifact = api.artifact(f\"{entity}/{project}/{artifact}\")\n",
    "artifact.download()"
   ]
  }
 ],
 "metadata": {
  "kernelspec": {
   "display_name": "detr",
   "language": "python",
   "name": "python3"
  },
  "language_info": {
   "codemirror_mode": {
    "name": "ipython",
    "version": 3
   },
   "file_extension": ".py",
   "mimetype": "text/x-python",
   "name": "python",
   "nbconvert_exporter": "python",
   "pygments_lexer": "ipython3",
   "version": "3.8.19"
  }
 },
 "nbformat": 4,
 "nbformat_minor": 2
}
