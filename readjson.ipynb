{
 "cells": [
  {
   "cell_type": "code",
   "execution_count": null,
   "metadata": {},
   "outputs": [],
   "source": [
    "import json\n",
    "from natsort import natsorted\n",
    "\n",
    "# 讀取JSON檔案\n",
    "with open('cityscapes_panoptic_val.json', 'r') as file:\n",
    "    data = json.load(file)\n",
    "\n",
    "# 提取所有的file_name並進行自然排序\n",
    "# file_names = [annotation['file_name'] for annotation in data['annotations']]\n",
    "file_names = [images['file_name'] for images in data['annotations']]\n",
    "# file_names = natsorted([annotation['file_name'] for annotation in data['annotations']])\n",
    "\n",
    "# 使用for迴圈打印結果\n",
    "for file_name in file_names:\n",
    "    print(file_name)\n"
   ]
  },
  {
   "cell_type": "code",
   "execution_count": null,
   "metadata": {},
   "outputs": [],
   "source": [
    "len(file_names)"
   ]
  },
  {
   "cell_type": "code",
   "execution_count": null,
   "metadata": {},
   "outputs": [],
   "source": [
    "import json\n",
    "from natsort import natsorted\n",
    "\n",
    "# 讀取JSON檔案\n",
    "with open('/media/tkyin/新增磁碟區/DETR/DETR/jujube/fold5/gtFine/cityscapes_panoptic_train.json', 'r') as file:\n",
    "    data = json.load(file)\n",
    "\n",
    "# 對annotations按照file_name進行自然排序\n",
    "data['annotations'] = natsorted(data['annotations'], key=lambda x: x['file_name'])\n",
    "data['images'] = natsorted(data['images'], key=lambda x: x['file_name'])\n",
    "\n",
    "# 將重新排序的結果保存回JSON檔案\n",
    "with open('cityscapes_panoptic_all.json', 'w') as file:\n",
    "    json.dump(data, file, indent=4)\n",
    "\n",
    "# 打印確認\n",
    "for annotation in data['annotations']:\n",
    "    print(annotation['file_name'])\n"
   ]
  },
  {
   "cell_type": "code",
   "execution_count": null,
   "metadata": {},
   "outputs": [],
   "source": [
    "import json\n",
    "\n",
    "# 讀取JSON檔案\n",
    "with open('/media/tkyin/新增磁碟區/DETR/DETR/jujube/fold5/gtFine/cityscapes_panoptic_train.json', 'r') as file:\n",
    "    data = json.load(file)\n",
    "\n",
    "print(len(data['annotations']))\n",
    "print(len(data['images']))"
   ]
  },
  {
   "cell_type": "markdown",
   "metadata": {},
   "source": [
    "轉換panpotic to coco"
   ]
  },
  {
   "cell_type": "markdown",
   "metadata": {},
   "source": [
    "去除stuff"
   ]
  },
  {
   "cell_type": "code",
   "execution_count": null,
   "metadata": {},
   "outputs": [],
   "source": [
    "import json\n",
    "\n",
    "with open('/media/tkyin/新增磁碟區/DETR/DETR/jujube/fold1/gtFine/coco_test.json', 'r') as f:\n",
    "    data = json.load(f)\n",
    "\n",
    "data['annotations'] = [\n",
    "    ann for ann in data['annotations'] if ann['category_id'] != 2\n",
    "]\n",
    "\n",
    "with open('data.json', 'w') as f:\n",
    "    json.dump(data, f, indent=4)\n",
    "\n",
    "print(\"已成功移除 category_id 為 2 的項目！\")"
   ]
  },
  {
   "cell_type": "markdown",
   "metadata": {},
   "source": [
    "計算類別數量"
   ]
  },
  {
   "cell_type": "code",
   "execution_count": 5,
   "metadata": {},
   "outputs": [
    {
     "name": "stdout",
     "output_type": "stream",
     "text": [
      "Category ID Counts:\n",
      "Category ID 2: 7188\n",
      "Category ID 3: 23994\n",
      "Category ID 5: 11392\n",
      "Category ID 6: 6513\n",
      "Category ID 4: 142\n"
     ]
    }
   ],
   "source": [
    "import json\n",
    "from collections import Counter\n",
    "\n",
    "def count_category_ids(json_file_path):\n",
    "    \"\"\"\n",
    "    Counts the occurrences of each category_id in a JSON file.\n",
    "\n",
    "    Args:\n",
    "        json_file_path (str): The path to your JSON file.\n",
    "\n",
    "    Returns:\n",
    "        dict: A dictionary where keys are category_ids and values are their counts.\n",
    "    \"\"\"\n",
    "    try:\n",
    "        with open(json_file_path, 'r', encoding='utf-8') as f:\n",
    "            data = json.load(f)\n",
    "    except FileNotFoundError:\n",
    "        print(f\"Error: File not found at '{json_file_path}'\")\n",
    "        return {}\n",
    "    except json.JSONDecodeError:\n",
    "        print(f\"Error: Could not decode JSON from '{json_file_path}'. Please check the file format.\")\n",
    "        return {}\n",
    "\n",
    "    category_ids = []\n",
    "    for annotation in data.get('annotations', []):\n",
    "        for segment_info in annotation.get('segments_info', []):\n",
    "            if 'category_id' in segment_info:\n",
    "                category_ids.append(segment_info['category_id'])\n",
    "\n",
    "    return Counter(category_ids)\n",
    "\n",
    "# --- How to use it ---\n",
    "# Assuming your JSON file is named 'your_data.json'\n",
    "json_file = '/media/tkyin/新增磁碟區/DETR/DETR/jujube/noise3_1/gtFine/cityscapes_panoptic_train.json'\n",
    "category_counts = count_category_ids(json_file)\n",
    "\n",
    "if category_counts:\n",
    "    print(\"Category ID Counts:\")\n",
    "    for category_id, count in category_counts.items():\n",
    "        print(f\"Category ID {category_id}: {count}\")"
   ]
  }
 ],
 "metadata": {
  "kernelspec": {
   "display_name": "base",
   "language": "python",
   "name": "python3"
  },
  "language_info": {
   "codemirror_mode": {
    "name": "ipython",
    "version": 3
   },
   "file_extension": ".py",
   "mimetype": "text/x-python",
   "name": "python",
   "nbconvert_exporter": "python",
   "pygments_lexer": "ipython3",
   "version": "3.8.19"
  }
 },
 "nbformat": 4,
 "nbformat_minor": 2
}
