{
 "cells": [
  {
   "cell_type": "code",
   "execution_count": null,
   "metadata": {},
   "outputs": [],
   "source": [
    "import torch\n",
    "import torch.nn as nn\n",
    "import torch.nn.functional as F\n",
    "\n",
    "class DSPM(nn.Module):\n",
    "    def __init__(self, in_channels, out_channels, dilation_rates=[1, 3, 6]):\n",
    "        super(DSPM, self).__init__()\n",
    "        reduced_channels = out_channels // 1\n",
    "        self.convs = nn.ModuleList([\n",
    "            nn.Conv2d(in_channels, reduced_channels, kernel_size=3, padding=d, dilation=d, bias=False)\n",
    "            for d in dilation_rates\n",
    "        ])\n",
    "        \n",
    "        self.global_pool = nn.AdaptiveAvgPool2d(1)\n",
    "        self.global_conv = nn.Conv2d(in_channels, reduced_channels, kernel_size=1, bias=False)\n",
    "        \n",
    "        self.final_conv = nn.Conv2d(reduced_channels * 4, out_channels, kernel_size=1, bias=False)\n",
    "        self.bn = nn.BatchNorm2d(out_channels)\n",
    "        self.relu = nn.ReLU(inplace=True)\n",
    "    \n",
    "    def forward(self, x):\n",
    "        conv_outs = [conv(x) for conv in self.convs]\n",
    "        pool_out = self.global_pool(x)\n",
    "        pool_out = self.global_conv(pool_out)  \n",
    "        pool_out = F.interpolate(pool_out, size=x.shape[2:], mode=\"bilinear\", align_corners=False)\n",
    "        \n",
    "        x = torch.cat([pool_out ] + conv_outs, dim=1)\n",
    "        x = self.final_conv(x)\n",
    "        x = self.bn(x)\n",
    "        x = self.relu(x)\n",
    "        return x\n"
   ]
  },
  {
   "cell_type": "code",
   "execution_count": null,
   "metadata": {},
   "outputs": [],
   "source": [
    "from torchvision.models import resnet50\n",
    "\n",
    "class ResNetWithDSPM(nn.Module):\n",
    "    def __init__(self, num_classes=100):\n",
    "        super(ResNetWithDSPM, self).__init__()\n",
    "        \n",
    "        base_model = resnet50(weights=\"ResNet50_Weights.DEFAULT\")\n",
    "        self.layer0 = nn.Sequential(base_model.conv1, base_model.bn1, base_model.relu, base_model.maxpool)\n",
    "        self.layer1 = base_model.layer1\n",
    "        self.layer2 = base_model.layer2\n",
    "        self.layer3 = base_model.layer3\n",
    "        self.layer4 = base_model.layer4  # ResNet 最後一層\n",
    "        \n",
    "        self.dspm = DSPM(in_channels=2048, out_channels=1024)\n",
    "        \n",
    "        self.classifier = nn.Conv2d(1024, num_classes, kernel_size=1)\n",
    "\n",
    "    def forward(self, x):\n",
    "        x = self.layer0(x)\n",
    "        x = self.layer1(x)\n",
    "        x = self.layer2(x)\n",
    "        x = self.layer3(x)\n",
    "        x = self.layer4(x)  # ResNet 最後一層\n",
    "        print(\"dspp:\",x.shape)\n",
    "        x = self.dspm(x)  # 加入 DSPM\n",
    "        print(\"dspp:\",x.shape)\n",
    "        x = self.classifier(x)  # 最終分類\n",
    "        # x = F.interpolate(x, scale_factor=2, mode=\"bilinear\", align_corners=False)  # 放大回輸入尺寸\n",
    "        \n",
    "        return x\n"
   ]
  },
  {
   "cell_type": "code",
   "execution_count": null,
   "metadata": {},
   "outputs": [],
   "source": [
    "model = ResNetWithDSPM(num_classes=100)\n",
    "input_tensor = torch.randn(1, 3, 512, 512)\n",
    "output = model(input_tensor)\n",
    "# print(output.shape)  # (1, 21, 512, 512)\n"
   ]
  }
 ],
 "metadata": {
  "language_info": {
   "name": "python"
  }
 },
 "nbformat": 4,
 "nbformat_minor": 2
}
